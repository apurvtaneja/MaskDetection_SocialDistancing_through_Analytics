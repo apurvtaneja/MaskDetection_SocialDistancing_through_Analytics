{
 "cells": [
  {
   "cell_type": "code",
   "execution_count": 15,
   "id": "fdc9dea9-977d-47ec-a607-c4302a010733",
   "metadata": {},
   "outputs": [],
   "source": [
    "import pandas as pd\n",
    "import numpy as np\n",
    "import panel as pn\n",
    "pn.extension('tabulator')\n",
    "import sqlite3\n",
    "import hvplot.pandas\n",
    "import datetime as dt"
   ]
  },
  {
   "cell_type": "code",
   "execution_count": 16,
   "id": "58f973fa-e01c-4b6b-ba6a-532a62b2e1e8",
   "metadata": {},
   "outputs": [
    {
     "name": "stdout",
     "output_type": "stream",
     "text": [
      "\n",
      "\n",
      "\n",
      "\n",
      "acquired data\n",
      "\n",
      "\n",
      "\n",
      "\n"
     ]
    }
   ],
   "source": [
    "con = sqlite3.connect(\"covid_database.db\")\n",
    "social_Distancing_df = pd.read_sql_query(\"SELECT Location, DateTime FROM socialDistancing;\", con)\n",
    "faceMaskViolation_df = pd.read_sql_query(\"SELECT violatorInfo, Location, DateTime FROM faceMaskViolation;\", con)\n",
    "print(\"\\n\\n\\n\\nacquired data\\n\\n\\n\\n\")\n",
    "# Verify that result of SQL query is stored in the dataframe\n",
    "social_Distancing_df.head()\n",
    "\n",
    "con.close()\n"
   ]
  },
  {
   "cell_type": "code",
   "execution_count": 17,
   "id": "7cc41412",
   "metadata": {},
   "outputs": [],
   "source": [
    "social_Distancing_df['DateTime'] = pd.to_datetime(social_Distancing_df['DateTime'])\n",
    "social_Distancing_df['Date'] = social_Distancing_df['DateTime'].dt.date\n",
    "social_Distancing_df['Time'] = pd.to_datetime(social_Distancing_df['DateTime']).dt.strftime('%I:%M %p')\n",
    "\n",
    "\n",
    "faceMaskViolation_df['DateTime'] = pd.to_datetime(faceMaskViolation_df['DateTime'])\n",
    "faceMaskViolation_df['Date'] = faceMaskViolation_df['DateTime'].dt.date\n",
    "faceMaskViolation_df['Time'] = pd.to_datetime(faceMaskViolation_df['DateTime']).dt.strftime('%I:%M %p')\n",
    "faceMaskViolation_df['violatorInfo'] = faceMaskViolation_df['violatorInfo'].astype(str)\n",
    "del faceMaskViolation_df['DateTime']"
   ]
  },
  {
   "cell_type": "code",
   "execution_count": 18,
   "id": "753c044d",
   "metadata": {},
   "outputs": [
    {
     "data": {
      "text/html": [
       "<div>\n",
       "<style scoped>\n",
       "    .dataframe tbody tr th:only-of-type {\n",
       "        vertical-align: middle;\n",
       "    }\n",
       "\n",
       "    .dataframe tbody tr th {\n",
       "        vertical-align: top;\n",
       "    }\n",
       "\n",
       "    .dataframe thead th {\n",
       "        text-align: right;\n",
       "    }\n",
       "</style>\n",
       "<table border=\"1\" class=\"dataframe\">\n",
       "  <thead>\n",
       "    <tr style=\"text-align: right;\">\n",
       "      <th></th>\n",
       "      <th>violatorInfo</th>\n",
       "      <th>Location</th>\n",
       "      <th>Date</th>\n",
       "      <th>Time</th>\n",
       "    </tr>\n",
       "  </thead>\n",
       "  <tbody>\n",
       "    <tr>\n",
       "      <th>0</th>\n",
       "      <td>102097006</td>\n",
       "      <td>Library</td>\n",
       "      <td>2022-12-18</td>\n",
       "      <td>09:29 AM</td>\n",
       "    </tr>\n",
       "    <tr>\n",
       "      <th>1</th>\n",
       "      <td>102097006</td>\n",
       "      <td>COS</td>\n",
       "      <td>2022-12-18</td>\n",
       "      <td>09:30 AM</td>\n",
       "    </tr>\n",
       "    <tr>\n",
       "      <th>2</th>\n",
       "      <td>102097006</td>\n",
       "      <td>TAN</td>\n",
       "      <td>2022-12-18</td>\n",
       "      <td>09:30 AM</td>\n",
       "    </tr>\n",
       "    <tr>\n",
       "      <th>3</th>\n",
       "      <td>102097006</td>\n",
       "      <td>LP</td>\n",
       "      <td>2022-12-18</td>\n",
       "      <td>09:30 AM</td>\n",
       "    </tr>\n",
       "    <tr>\n",
       "      <th>4</th>\n",
       "      <td>102097006</td>\n",
       "      <td>LP</td>\n",
       "      <td>2022-12-18</td>\n",
       "      <td>09:30 AM</td>\n",
       "    </tr>\n",
       "    <tr>\n",
       "      <th>5</th>\n",
       "      <td>102097006</td>\n",
       "      <td>TAN</td>\n",
       "      <td>2022-12-18</td>\n",
       "      <td>09:30 AM</td>\n",
       "    </tr>\n",
       "    <tr>\n",
       "      <th>6</th>\n",
       "      <td>102097006</td>\n",
       "      <td>LT</td>\n",
       "      <td>2022-12-18</td>\n",
       "      <td>08:01 PM</td>\n",
       "    </tr>\n",
       "    <tr>\n",
       "      <th>7</th>\n",
       "      <td>102097006</td>\n",
       "      <td>LP</td>\n",
       "      <td>2022-12-18</td>\n",
       "      <td>08:12 PM</td>\n",
       "    </tr>\n",
       "    <tr>\n",
       "      <th>8</th>\n",
       "      <td>102097006</td>\n",
       "      <td>OAT</td>\n",
       "      <td>2022-12-18</td>\n",
       "      <td>08:12 PM</td>\n",
       "    </tr>\n",
       "  </tbody>\n",
       "</table>\n",
       "</div>"
      ],
      "text/plain": [
       "  violatorInfo Location        Date      Time\n",
       "0    102097006  Library  2022-12-18  09:29 AM\n",
       "1    102097006      COS  2022-12-18  09:30 AM\n",
       "2    102097006      TAN  2022-12-18  09:30 AM\n",
       "3    102097006       LP  2022-12-18  09:30 AM\n",
       "4    102097006       LP  2022-12-18  09:30 AM\n",
       "5    102097006      TAN  2022-12-18  09:30 AM\n",
       "6    102097006       LT  2022-12-18  08:01 PM\n",
       "7    102097006       LP  2022-12-18  08:12 PM\n",
       "8    102097006      OAT  2022-12-18  08:12 PM"
      ]
     },
     "execution_count": 18,
     "metadata": {},
     "output_type": "execute_result"
    }
   ],
   "source": [
    "faceMaskViolation_df"
   ]
  },
  {
   "cell_type": "code",
   "execution_count": 19,
   "id": "64bcbe14",
   "metadata": {},
   "outputs": [
    {
     "data": {
      "application/vnd.jupyter.widget-view+json": {
       "model_id": "2cc428f33a7a4667ae2097ddeab190ad",
       "version_major": 2,
       "version_minor": 0
      },
      "text/plain": [
       "BokehModel(combine_events=True, render_bundle={'docs_json': {'2d739582-3a68-4dd7-8885-b281c91ced23': {'defs': …"
      ]
     },
     "execution_count": 19,
     "metadata": {},
     "output_type": "execute_result"
    }
   ],
   "source": [
    "faceMaskViolation_idf = faceMaskViolation_df.interactive()\n",
    "faceMaskViolation_idf"
   ]
  },
  {
   "cell_type": "code",
   "execution_count": 20,
   "id": "8eb70cc4",
   "metadata": {},
   "outputs": [
    {
     "data": {
      "text/html": [
       "<div>\n",
       "<style scoped>\n",
       "    .dataframe tbody tr th:only-of-type {\n",
       "        vertical-align: middle;\n",
       "    }\n",
       "\n",
       "    .dataframe tbody tr th {\n",
       "        vertical-align: top;\n",
       "    }\n",
       "\n",
       "    .dataframe thead th {\n",
       "        text-align: right;\n",
       "    }\n",
       "</style>\n",
       "<table border=\"1\" class=\"dataframe\">\n",
       "  <thead>\n",
       "    <tr style=\"text-align: right;\">\n",
       "      <th></th>\n",
       "      <th>Location</th>\n",
       "      <th>Date</th>\n",
       "      <th>counts</th>\n",
       "    </tr>\n",
       "  </thead>\n",
       "  <tbody>\n",
       "    <tr>\n",
       "      <th>0</th>\n",
       "      <td>B-Block</td>\n",
       "      <td>2022-12-17</td>\n",
       "      <td>4</td>\n",
       "    </tr>\n",
       "    <tr>\n",
       "      <th>1</th>\n",
       "      <td>B-Block</td>\n",
       "      <td>2022-12-18</td>\n",
       "      <td>3</td>\n",
       "    </tr>\n",
       "    <tr>\n",
       "      <th>2</th>\n",
       "      <td>COS</td>\n",
       "      <td>2022-12-04</td>\n",
       "      <td>1</td>\n",
       "    </tr>\n",
       "    <tr>\n",
       "      <th>3</th>\n",
       "      <td>COS</td>\n",
       "      <td>2022-12-09</td>\n",
       "      <td>1</td>\n",
       "    </tr>\n",
       "    <tr>\n",
       "      <th>4</th>\n",
       "      <td>COS</td>\n",
       "      <td>2022-12-17</td>\n",
       "      <td>3</td>\n",
       "    </tr>\n",
       "  </tbody>\n",
       "</table>\n",
       "</div>"
      ],
      "text/plain": [
       "  Location        Date  counts\n",
       "0  B-Block  2022-12-17       4\n",
       "1  B-Block  2022-12-18       3\n",
       "2      COS  2022-12-04       1\n",
       "3      COS  2022-12-09       1\n",
       "4      COS  2022-12-17       3"
      ]
     },
     "execution_count": 20,
     "metadata": {},
     "output_type": "execute_result"
    }
   ],
   "source": [
    "df2 = social_Distancing_df.groupby(['Location', 'Date'])['Location'].count().reset_index(name='counts')\n",
    "df2['Date'] = pd.to_datetime(df2['Date'])\n",
    "df2['Date'] = df2['Date'].dt.date\n",
    "df2.head()"
   ]
  },
  {
   "cell_type": "code",
   "execution_count": 21,
   "id": "f1190d4b",
   "metadata": {},
   "outputs": [],
   "source": [
    "idf = df2.interactive()"
   ]
  },
  {
   "cell_type": "code",
   "execution_count": 22,
   "id": "c244fb59",
   "metadata": {},
   "outputs": [],
   "source": [
    "social_Distancing_df_table = social_Distancing_df[['Location','Date','Time']]\n",
    "social_Distancing_idf_table = social_Distancing_df_table.interactive()"
   ]
  },
  {
   "cell_type": "code",
   "execution_count": 23,
   "id": "b81a227b-996c-4eec-8dd0-4968831b9eb9",
   "metadata": {},
   "outputs": [
    {
     "data": {
      "application/vnd.jupyter.widget-view+json": {
       "model_id": "d5c0f74bfc0d4f32b3060e6ccefdfbd0",
       "version_major": 2,
       "version_minor": 0
      },
      "text/plain": [
       "BokehModel(combine_events=True, render_bundle={'docs_json': {'dc32bf38-f3f8-40ab-b428-49e885bcf886': {'defs': …"
      ]
     },
     "execution_count": 23,
     "metadata": {},
     "output_type": "execute_result"
    }
   ],
   "source": [
    "min_df = social_Distancing_df[\"Date\"].min()\n",
    "\n",
    "max_df = social_Distancing_df[\"Date\"].max()\n",
    "\n",
    "date_slider = pn.widgets.DateSlider(name='Date Slider', start=min_df, end=max_df, value=max_df)\n",
    "date_slider"
   ]
  },
  {
   "cell_type": "code",
   "execution_count": 24,
   "id": "4c357628-af69-4ec4-9e2d-91bcdd21c3c9",
   "metadata": {},
   "outputs": [],
   "source": [
    "locations = ['Library', 'COS', 'Jagii', 'OAT', 'B-Block', 'LT', 'LP', 'TAN']\n",
    "\n",
    "social_Distancing_pipeline = (\n",
    "    idf[\n",
    "        (idf.Date <= date_slider) &\n",
    "        (idf.Location.isin(locations))\n",
    "    ]\n",
    "    .groupby(['Location', 'Date']).mean()\n",
    "    .reset_index()\n",
    "    .sort_values(by='Date')  \n",
    "    .reset_index(drop=True)\n",
    ")\n",
    "social_Distancing_table_pipeline = (\n",
    "    social_Distancing_idf_table[\n",
    "        (social_Distancing_idf_table.Date <= date_slider) &\n",
    "        (social_Distancing_idf_table.Location.isin(locations))\n",
    "    ]\n",
    "    .reset_index()\n",
    "    .sort_values(by=['Date','Time'], ascending=False)  \n",
    "    .reset_index(drop=True)\n",
    ")\n",
    "\n"
   ]
  },
  {
   "cell_type": "code",
   "execution_count": 34,
   "id": "ad349aaf-1612-4a0d-9303-3a379cf83fad",
   "metadata": {
    "collapsed": true,
    "jupyter": {
     "outputs_hidden": true
    },
    "tags": []
   },
   "outputs": [],
   "source": [
    "faceMaskViolation_idf_table_pipeline = (\n",
    "    faceMaskViolation_idf[\n",
    "        (faceMaskViolation_idf.Date <= date_slider) &\n",
    "        (faceMaskViolation_idf.Location.isin(locations))\n",
    "    ]\n",
    "    .sort_values(by=['Date','Time'], ascending=True)\n",
    "    .reset_index(drop=True)\n",
    ")"
   ]
  },
  {
   "cell_type": "code",
   "execution_count": 40,
   "id": "96b7ed90-92db-41b2-a2ab-ea80aa34d2db",
   "metadata": {
    "tags": []
   },
   "outputs": [
    {
     "data": {
      "application/vnd.jupyter.widget-view+json": {
       "model_id": "53451f06858b4b4eb9e22e13f4a25195",
       "version_major": 2,
       "version_minor": 0
      },
      "text/plain": [
       "BokehModel(combine_events=True, render_bundle={'docs_json': {'d6987218-26a9-4ebe-bc24-2a291ec501cc': {'defs': …"
      ]
     },
     "execution_count": 40,
     "metadata": {},
     "output_type": "execute_result"
    }
   ],
   "source": [
    "social_distancing_plot = social_Distancing_pipeline.hvplot(x = 'Date', by='Location', y='counts',line_width=2, title=\"Social Distancing Violations by Location\")\n",
    "social_distancing_plot"
   ]
  },
  {
   "cell_type": "code",
   "execution_count": 41,
   "id": "53f2ccbc",
   "metadata": {},
   "outputs": [
    {
     "data": {
      "application/vnd.jupyter.widget-view+json": {
       "model_id": "c1b56d3b327a4f7581ef4b454bc9e9f0",
       "version_major": 2,
       "version_minor": 0
      },
      "text/plain": [
       "BokehModel(combine_events=True, render_bundle={'docs_json': {'cb8ed426-8d08-4c8e-8f20-84b3ca4ba3da': {'defs': …"
      ]
     },
     "execution_count": 41,
     "metadata": {},
     "output_type": "execute_result"
    }
   ],
   "source": [
    "social_Distancing_table = social_Distancing_table_pipeline.pipe(pn.widgets.Tabulator, pagination='remote', page_size = 7, sizing_mode='stretch_width', show_index = False,disabled = True)\n",
    "social_Distancing_table"
   ]
  },
  {
   "cell_type": "code",
   "execution_count": 35,
   "id": "65143a8c",
   "metadata": {},
   "outputs": [
    {
     "data": {
      "application/vnd.jupyter.widget-view+json": {
       "model_id": "b2382fcfcc044c5daf0db9633f5a5ea2",
       "version_major": 2,
       "version_minor": 0
      },
      "text/plain": [
       "BokehModel(combine_events=True, render_bundle={'docs_json': {'ea471887-c30d-4243-acef-8d95c102cb64': {'defs': …"
      ]
     },
     "execution_count": 35,
     "metadata": {},
     "output_type": "execute_result"
    }
   ],
   "source": [
    "faceMaskViolation_idf_table = faceMaskViolation_idf_table_pipeline.pipe(pn.widgets.Tabulator, pagination='remote', page_size = 7, sizing_mode='stretch_width', show_index = False,disabled = True)\n",
    "faceMaskViolation_idf_table"
   ]
  },
  {
   "cell_type": "code",
   "execution_count": 30,
   "id": "85745129",
   "metadata": {},
   "outputs": [
    {
     "data": {
      "application/vnd.jupyter.widget-view+json": {
       "model_id": "52baed138ac0410f981a28f228273428",
       "version_major": 2,
       "version_minor": 0
      },
      "text/plain": [
       "BokehModel(combine_events=True, render_bundle={'docs_json': {'051ae326-7958-4479-8ef6-63694ddd1297': {'defs': …"
      ]
     },
     "execution_count": 30,
     "metadata": {},
     "output_type": "execute_result"
    }
   ],
   "source": [
    "social_distancing_bar = social_Distancing_pipeline.hvplot.bar(stacked=True, x = 'Date', by='Location', y='counts', title=\"Bar Graph of Social Distancing Violations\",legend='top_left')\n",
    "social_distancing_bar"
   ]
  },
  {
   "cell_type": "markdown",
   "id": "37aaa06b",
   "metadata": {},
   "source": []
  },
  {
   "cell_type": "markdown",
   "id": "ef1d523e-0409-4024-9783-2b654b8f9d53",
   "metadata": {},
   "source": [
    "## Creating Dashboard"
   ]
  },
  {
   "cell_type": "code",
   "execution_count": 18,
   "id": "1c2e45bf-37c7-48e0-a2d3-a36da8843362",
   "metadata": {},
   "outputs": [],
   "source": [
    "#Layout using Template\n",
    "template = pn.template.FastListTemplate(\n",
    "    title='Framework for COVID Social Distancing and Mask Detection', \n",
    "    sidebar=[pn.pane.Markdown(\"# COVID-19 Dashboard\"), \n",
    "             pn.pane.Markdown(\"#### Management of COVID-19 in the University with the help of Analytics which is powered by AI and ML\"), \n",
    "             pn.pane.PNG('logo.png', width=300),\n",
    "             pn.pane.Markdown(\"## Settings\"),   \n",
    "             date_slider],\n",
    "    main=[pn.Row(pn.Column(social_distancing_plot.panel(), margin=(0,25)),\n",
    "                    pn.Column(social_Distancing_table.panel(width=300), margin=(0,25))), \n",
    "          pn.Row(pn.Column(social_distancing_bar.panel(), margin=(0,25)),\n",
    "                    pn.Column(faceMaskViolation_idf_table.panel(width=300), margin=(0,25))\n",
    "                 )],\n",
    "    accent_base_color=\"#88d8b0\",\n",
    "    header_background=\"#88d8b0\",\n",
    ")\n",
    "# template.show()\n",
    "template.servable();"
   ]
  },
  {
   "cell_type": "code",
   "execution_count": null,
   "id": "438f8daa-0017-4cb2-a8cb-c86784a6ab52",
   "metadata": {},
   "outputs": [],
   "source": []
  }
 ],
 "metadata": {
  "kernelspec": {
   "display_name": "Dashboard",
   "language": "python",
   "name": "python3"
  },
  "language_info": {
   "codemirror_mode": {
    "name": "ipython",
    "version": 3
   },
   "file_extension": ".py",
   "mimetype": "text/x-python",
   "name": "python",
   "nbconvert_exporter": "python",
   "pygments_lexer": "ipython3",
   "version": "3.8.10"
  },
  "vscode": {
   "interpreter": {
    "hash": "d1bd500ccdd4b3e30ace1b0f6d13268e5f0061ed7764b880369d7e1c30bbd93c"
   }
  }
 },
 "nbformat": 4,
 "nbformat_minor": 5
}
